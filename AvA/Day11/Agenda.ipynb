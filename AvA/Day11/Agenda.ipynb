{
 "cells": [
  {
   "cell_type": "code",
   "execution_count": 0,
   "metadata": {
    "application/vnd.databricks.v1+cell": {
     "cellMetadata": {},
     "inputWidgets": {},
     "nuid": "3cd783cb-14f5-4fbe-9959-fd8d244e5a10",
     "showTitle": false,
     "tableResultSettingsMap": {},
     "title": ""
    }
   },
   "outputs": [],
   "source": [
    "dynamic view\n",
    "\n",
    "\n",
    "databricks docs\n",
    "\n",
    "data ingestion (theory) and step\n",
    "\n",
    "schema==== BI-- Power BI\n",
    "\n",
    "Databricks CLI \n",
    "web\n",
    "vs code\n",
    "\n",
    "DABs \n",
    "\n",
    "Machine learning\n",
    "\n",
    "AI\n"
   ]
  }
 ],
 "metadata": {
  "application/vnd.databricks.v1+notebook": {
   "computePreferences": null,
   "dashboards": [],
   "environmentMetadata": {
    "base_environment": "",
    "environment_version": "2"
   },
   "inputWidgetPreferences": null,
   "language": "sql",
   "notebookMetadata": {},
   "notebookName": "Agenda",
   "widgets": {}
  },
  "language_info": {
   "name": "sql"
  }
 },
 "nbformat": 4,
 "nbformat_minor": 0
}
