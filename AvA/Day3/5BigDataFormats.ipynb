{
 "cells": [
  {
   "cell_type": "code",
   "execution_count": 0,
   "metadata": {
    "application/vnd.databricks.v1+cell": {
     "cellMetadata": {},
     "inputWidgets": {},
     "nuid": "830c1275-f710-4658-8e10-e031384366c0",
     "showTitle": false,
     "tableResultSettingsMap": {},
     "title": ""
    }
   },
   "outputs": [],
   "source": [
    "csv,json,parquet,avro, orc, xml, xls, etc etc\n",
    "\n",
    "parquet\n",
    "\n",
    "\n",
    "csv(1gb)\n",
    "\n",
    "60%-90%, 97%\n",
    "\n",
    "parquet (17mb)"
   ]
  },
  {
   "cell_type": "code",
   "execution_count": 0,
   "metadata": {
    "application/vnd.databricks.v1+cell": {
     "cellMetadata": {},
     "inputWidgets": {},
     "nuid": "2be2e139-c908-4eac-8ca5-2789b363a645",
     "showTitle": false,
     "tableResultSettingsMap": {},
     "title": ""
    }
   },
   "outputs": [],
   "source": [
    " Advanced table formats: Icerber, Delta, Hudi (Uniform)\n",
    " Iceberg (Parquet) (Open source) \n",
    " Delta Lake (Parquet)(open source)--- databricks  \n",
    "Hudi (Parquet)"
   ]
  }
 ],
 "metadata": {
  "application/vnd.databricks.v1+notebook": {
   "computePreferences": null,
   "dashboards": [],
   "environmentMetadata": {
    "base_environment": "",
    "environment_version": "2"
   },
   "inputWidgetPreferences": null,
   "language": "sql",
   "notebookMetadata": {},
   "notebookName": "5BigDataFormats",
   "widgets": {}
  },
  "language_info": {
   "name": "sql"
  }
 },
 "nbformat": 4,
 "nbformat_minor": 0
}
