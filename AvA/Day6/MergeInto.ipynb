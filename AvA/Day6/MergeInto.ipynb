{
 "cells": [
  {
   "cell_type": "code",
   "execution_count": 0,
   "metadata": {
    "application/vnd.databricks.v1+cell": {
     "cellMetadata": {},
     "inputWidgets": {},
     "nuid": "200ec2d6-2620-40fd-9f3a-6de5b1dc0dbe",
     "showTitle": false,
     "tableResultSettingsMap": {},
     "title": ""
    }
   },
   "outputs": [],
   "source": [
    "inserts, update , delete: change data capture \n",
    "\n",
    "merge into : avoid duplicates \n",
    "\n",
    "upsert: UPdate inSERT"
   ]
  },
  {
   "cell_type": "code",
   "execution_count": 0,
   "metadata": {
    "application/vnd.databricks.v1+cell": {
     "cellMetadata": {
      "byteLimit": 2048000,
      "rowLimit": 10000
     },
     "inputWidgets": {},
     "nuid": "033daf7a-85a1-414a-98b5-828a54bf74c8",
     "showTitle": false,
     "tableResultSettingsMap": {},
     "title": ""
    }
   },
   "outputs": [],
   "source": [
    "data=([(1,'Sachin','Mumbai'),(2,'Virat','Delhi')])\n",
    "schema=\"id int, name string, city string\"\n",
    "df=spark.createDataFrame(data,schema)\n",
    "df.createOrReplaceTempView(\"source\")"
   ]
  },
  {
   "cell_type": "code",
   "execution_count": 0,
   "metadata": {
    "application/vnd.databricks.v1+cell": {
     "cellMetadata": {
      "byteLimit": 2048000,
      "implicitDf": true,
      "rowLimit": 10000
     },
     "inputWidgets": {},
     "nuid": "68d46ac1-c37b-4f58-a360-8e22511e3ee9",
     "showTitle": false,
     "tableResultSettingsMap": {},
     "title": ""
    }
   },
   "outputs": [],
   "source": [
    "%sql\n",
    "create table auto.ava_silver.emp (id int, name string, city string)"
   ]
  },
  {
   "cell_type": "code",
   "execution_count": 0,
   "metadata": {
    "application/vnd.databricks.v1+cell": {
     "cellMetadata": {
      "byteLimit": 2048000,
      "implicitDf": true,
      "rowLimit": 10000
     },
     "inputWidgets": {},
     "nuid": "9fd69c61-b6ed-4b7a-b2e5-b15e9fe16047",
     "showTitle": false,
     "tableResultSettingsMap": {},
     "title": ""
    }
   },
   "outputs": [],
   "source": [
    "%sql\n",
    "select * from auto.ava_silver.emp"
   ]
  },
  {
   "cell_type": "code",
   "execution_count": 0,
   "metadata": {
    "application/vnd.databricks.v1+cell": {
     "cellMetadata": {
      "byteLimit": 2048000,
      "implicitDf": true,
      "rowLimit": 10000
     },
     "inputWidgets": {},
     "nuid": "7122198d-02c3-4daf-965e-0e10baf2fd23",
     "showTitle": false,
     "tableResultSettingsMap": {},
     "title": ""
    }
   },
   "outputs": [],
   "source": [
    "%sql\n",
    "MERGE INTO auto.ava_silver.emp e\n",
    "USING source s\n",
    "ON e.id = s.id\n",
    "WHEN MATCHED THEN\n",
    "  UPDATE SET\n",
    "    e.name = s.name,\n",
    "    e.city = s.city\n",
    "WHEN NOT MATCHED\n",
    "  THEN INSERT (\n",
    "    id,\n",
    "    name,\n",
    "    city\n",
    "  )\n",
    "  VALUES (\n",
    "   s.id,\n",
    "   s.name,\n",
    "   s.city\n",
    "  )"
   ]
  },
  {
   "cell_type": "code",
   "execution_count": 0,
   "metadata": {
    "application/vnd.databricks.v1+cell": {
     "cellMetadata": {
      "byteLimit": 2048000,
      "rowLimit": 10000
     },
     "inputWidgets": {},
     "nuid": "d8a3e2d0-bea8-4c53-b712-41bdb9e1fbb1",
     "showTitle": false,
     "tableResultSettingsMap": {},
     "title": ""
    }
   },
   "outputs": [],
   "source": [
    "data=([(3,'Rohit','Mumbai'),(2,'Virat','Bangalore'),(4,'Pant','Delhi')])\n",
    "schema=\"id int, name string, city string\"\n",
    "df=spark.createDataFrame(data,schema)\n",
    "df.createOrReplaceTempView(\"source\")"
   ]
  }
 ],
 "metadata": {
  "application/vnd.databricks.v1+notebook": {
   "computePreferences": null,
   "dashboards": [],
   "environmentMetadata": {
    "base_environment": "",
    "environment_version": "2"
   },
   "inputWidgetPreferences": null,
   "language": "python",
   "notebookMetadata": {
    "mostRecentlyExecutedCommandWithImplicitDF": {
     "commandId": 6266735570361635,
     "dataframes": [
      "_sqldf"
     ]
    },
    "pythonIndentUnit": 4
   },
   "notebookName": "MergeInto",
   "widgets": {}
  },
  "language_info": {
   "name": "python"
  }
 },
 "nbformat": 4,
 "nbformat_minor": 0
}
