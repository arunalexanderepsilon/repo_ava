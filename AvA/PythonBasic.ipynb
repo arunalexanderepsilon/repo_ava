{
 "cells": [
  {
   "cell_type": "markdown",
   "metadata": {
    "application/vnd.databricks.v1+cell": {
     "cellMetadata": {},
     "inputWidgets": {},
     "nuid": "c6c210bc-ea4f-49bc-b183-1866bce439b9",
     "showTitle": false,
     "tableResultSettingsMap": {},
     "title": ""
    },
    "id": "kIt_Jx32CvKf"
   },
   "source": []
  },
  {
   "cell_type": "markdown",
   "metadata": {
    "application/vnd.databricks.v1+cell": {
     "cellMetadata": {},
     "inputWidgets": {},
     "nuid": "4eaeedd8-ddcf-4f3a-a03d-165a7bb71c1a",
     "showTitle": false,
     "tableResultSettingsMap": {},
     "title": ""
    },
    "id": "2sVfH1LvCxhI"
   },
   "source": [
    "## Getting Started with Python"
   ]
  },
  {
   "cell_type": "code",
   "execution_count": 0,
   "metadata": {
    "application/vnd.databricks.v1+cell": {
     "cellMetadata": {},
     "inputWidgets": {},
     "nuid": "edca4578-019b-41aa-89fd-62425efc302c",
     "showTitle": false,
     "tableResultSettingsMap": {},
     "title": ""
    },
    "id": "T-bh9QZDDVMC"
   },
   "outputs": [],
   "source": []
  },
  {
   "cell_type": "markdown",
   "metadata": {
    "application/vnd.databricks.v1+cell": {
     "cellMetadata": {},
     "inputWidgets": {},
     "nuid": "011a4d0f-21d0-4da7-9ac1-1bc20e032b3d",
     "showTitle": false,
     "tableResultSettingsMap": {},
     "title": ""
    },
    "id": "LUtQwTWXDVig"
   },
   "source": []
  },
  {
   "cell_type": "markdown",
   "metadata": {
    "application/vnd.databricks.v1+cell": {
     "cellMetadata": {},
     "inputWidgets": {},
     "nuid": "24ff3437-d52b-42ae-97a3-ac98cc5138c0",
     "showTitle": false,
     "tableResultSettingsMap": {},
     "title": ""
    },
    "id": "JJh8X5ReDVlJ"
   },
   "source": [
    "Fundamental Data Types\n",
    "\n",
    "\n",
    "1. Int\n",
    "2. Float\n",
    "3. String\n",
    "4. Bool\n",
    "5. Complex\n",
    "\n",
    "\n",
    "\n",
    "\n"
   ]
  },
  {
   "cell_type": "markdown",
   "metadata": {
    "application/vnd.databricks.v1+cell": {
     "cellMetadata": {},
     "inputWidgets": {},
     "nuid": "f605ff9e-4789-4453-9c94-89deace265bf",
     "showTitle": false,
     "tableResultSettingsMap": {},
     "title": ""
    },
    "id": "bzYND5EfDNsh"
   },
   "source": []
  },
  {
   "cell_type": "markdown",
   "metadata": {
    "application/vnd.databricks.v1+cell": {
     "cellMetadata": {},
     "inputWidgets": {},
     "nuid": "a9a0cb5e-a30d-45bf-b713-0ab6f5da1931",
     "showTitle": false,
     "tableResultSettingsMap": {},
     "title": ""
    },
    "id": "ECDhi9mnDNu5"
   },
   "source": []
  },
  {
   "cell_type": "code",
   "execution_count": 0,
   "metadata": {
    "application/vnd.databricks.v1+cell": {
     "cellMetadata": {},
     "inputWidgets": {},
     "nuid": "02b255c6-c6a7-4fd5-a77e-e71b7d3aa8aa",
     "showTitle": false,
     "tableResultSettingsMap": {},
     "title": ""
    },
    "colab": {
     "base_uri": "https://localhost:8080/"
    },
    "id": "CxC3EDKVDa4f",
    "outputId": "0049ae44-33ec-4b5d-a8bf-98f417490a59"
   },
   "outputs": [],
   "source": [
    "a=10\n",
    "print(a)\n",
    "print(type(a))\n",
    "q=2.3\n",
    "print(q)\n",
    "print(type(q))\n",
    "s='text'\n",
    "print(s)\n",
    "print(type(s))\n",
    "b=False\n",
    "print(b)\n",
    "print(type(b))\n"
   ]
  },
  {
   "cell_type": "code",
   "execution_count": 0,
   "metadata": {
    "application/vnd.databricks.v1+cell": {
     "cellMetadata": {},
     "inputWidgets": {},
     "nuid": "d815d011-1e25-4e20-a20e-aef3db7674c6",
     "showTitle": false,
     "tableResultSettingsMap": {},
     "title": ""
    },
    "id": "4EsnnHSaGpAT"
   },
   "outputs": [],
   "source": []
  },
  {
   "cell_type": "code",
   "execution_count": 0,
   "metadata": {
    "application/vnd.databricks.v1+cell": {
     "cellMetadata": {},
     "inputWidgets": {},
     "nuid": "7b5bb372-e7ef-48d6-8395-6f5efb215df1",
     "showTitle": false,
     "tableResultSettingsMap": {},
     "title": ""
    },
    "colab": {
     "base_uri": "https://localhost:8080/"
    },
    "id": "QYJJCPJwEU3M",
    "outputId": "66c2b7e0-1b86-420c-d786-d521f7e032ec"
   },
   "outputs": [],
   "source": [
    "\n",
    "s='''text\n",
    "is here'''\n",
    "print(s)\n",
    "print(type(s))"
   ]
  },
  {
   "cell_type": "code",
   "execution_count": 0,
   "metadata": {
    "application/vnd.databricks.v1+cell": {
     "cellMetadata": {},
     "inputWidgets": {},
     "nuid": "e6e1fe2d-424b-42a4-94ce-7083cb61b5ef",
     "showTitle": false,
     "tableResultSettingsMap": {},
     "title": ""
    },
    "colab": {
     "base_uri": "https://localhost:8080/"
    },
    "id": "4J0y7nVCE_i2",
    "outputId": "fbe53e35-96de-4b7e-e288-af252db79235"
   },
   "outputs": [],
   "source": [
    "\n",
    "s='ten'\n",
    "print(s)\n",
    "print(type(s))"
   ]
  },
  {
   "cell_type": "code",
   "execution_count": 0,
   "metadata": {
    "application/vnd.databricks.v1+cell": {
     "cellMetadata": {},
     "inputWidgets": {},
     "nuid": "2dc6e733-168a-446a-acb7-7806b0e163e8",
     "showTitle": false,
     "tableResultSettingsMap": {},
     "title": ""
    },
    "colab": {
     "base_uri": "https://localhost:8080/"
    },
    "id": "ToKs_GYAGqNa",
    "outputId": "6f111397-204d-42bd-c22f-dda32fad9e50"
   },
   "outputs": [],
   "source": [
    "a=10\n",
    "print(id(a))\n",
    "a=30\n",
    "print(id(a))\n",
    "a=20\n",
    "print(id(a))\n",
    "b=20\n",
    "print(id(b))\n"
   ]
  },
  {
   "cell_type": "code",
   "execution_count": 0,
   "metadata": {
    "application/vnd.databricks.v1+cell": {
     "cellMetadata": {},
     "inputWidgets": {},
     "nuid": "2ed303d7-e9dd-4d23-ae3f-c2dfeabd3055",
     "showTitle": false,
     "tableResultSettingsMap": {},
     "title": ""
    },
    "colab": {
     "base_uri": "https://localhost:8080/"
    },
    "id": "yGS3dmTGIoPQ",
    "outputId": "baa83c54-dd2b-4b49-8982-6e43756b413a"
   },
   "outputs": [],
   "source": [
    "\n",
    "b=20\n",
    "print(id(b))"
   ]
  },
  {
   "cell_type": "code",
   "execution_count": 0,
   "metadata": {
    "application/vnd.databricks.v1+cell": {
     "cellMetadata": {},
     "inputWidgets": {},
     "nuid": "2bb218bd-7604-4780-81f8-4609de032c70",
     "showTitle": false,
     "tableResultSettingsMap": {},
     "title": ""
    },
    "colab": {
     "base_uri": "https://localhost:8080/",
     "height": 87
    },
    "id": "oFcXlJJ0KrdE",
    "outputId": "a587ec6a-ce22-4d42-8b03-3c79b52027a4"
   },
   "outputs": [],
   "source": [
    "text=\"This a a text value added by Arun\"\n",
    "print(text[-4]) # indexing\n",
    "print(text[:-4]) # Slicing\n",
    "print(text[:4]) # Slicing\n",
    "\n",
    "text[-4]"
   ]
  },
  {
   "cell_type": "code",
   "execution_count": 0,
   "metadata": {
    "application/vnd.databricks.v1+cell": {
     "cellMetadata": {},
     "inputWidgets": {},
     "nuid": "17064f7a-2aac-454a-8a56-30a2ed1f129f",
     "showTitle": false,
     "tableResultSettingsMap": {},
     "title": ""
    },
    "colab": {
     "base_uri": "https://localhost:8080/"
    },
    "id": "ZqLhhD7KMBSd",
    "outputId": "3b9e9861-9832-4f3d-f449-c08f60d02516"
   },
   "outputs": [],
   "source": [
    "# Operators + *\n",
    "# + Both should be string\n",
    "# * one should be string and other should be int\n",
    "s=\"Arun\"+\" \"+\"Alexander\"\n",
    "print(s)\n",
    "s=\"Arun\" + \"ADG\" * 3\n",
    "print(s)\n",
    "\n",
    "s= 3 * \"Arun\" * 4\n",
    "print(s)\n",
    "\n",
    "\n"
   ]
  },
  {
   "cell_type": "code",
   "execution_count": 0,
   "metadata": {
    "application/vnd.databricks.v1+cell": {
     "cellMetadata": {},
     "inputWidgets": {},
     "nuid": "f107399d-bd34-43b4-93f3-65559ce8a2d8",
     "showTitle": false,
     "tableResultSettingsMap": {},
     "title": ""
    },
    "colab": {
     "base_uri": "https://localhost:8080/"
    },
    "id": "IMYngcMHN6h0",
    "outputId": "1f978ae5-9029-498a-eabf-45ec10d5e121"
   },
   "outputs": [],
   "source": [
    "### Type Casting\n",
    "s = 'AWS' * int(10/2)\n",
    "print(s)"
   ]
  },
  {
   "cell_type": "code",
   "execution_count": 0,
   "metadata": {
    "application/vnd.databricks.v1+cell": {
     "cellMetadata": {},
     "inputWidgets": {},
     "nuid": "f5742e9e-fa0d-49a9-b0b9-11ccc9d34db5",
     "showTitle": false,
     "tableResultSettingsMap": {},
     "title": ""
    },
    "colab": {
     "base_uri": "https://localhost:8080/"
    },
    "id": "6XosK4GxOqpr",
    "outputId": "ff6a1869-5954-4949-b3c9-3fa1efbb40f3"
   },
   "outputs": [],
   "source": [
    "a=10\n",
    "print(float(10))\n",
    "print(str(10))\n",
    "print(bool(10))\n",
    "\n",
    "\n",
    "print(int(10.1))\n",
    "print(str(10.1))\n",
    "print(bool(10.1))\n",
    "print(bool(0.0))\n",
    "\n",
    "\n"
   ]
  },
  {
   "cell_type": "code",
   "execution_count": 0,
   "metadata": {
    "application/vnd.databricks.v1+cell": {
     "cellMetadata": {},
     "inputWidgets": {},
     "nuid": "3018ef96-2110-4e6c-8332-2e27034ea64d",
     "showTitle": false,
     "tableResultSettingsMap": {},
     "title": ""
    },
    "colab": {
     "base_uri": "https://localhost:8080/"
    },
    "id": "dbn3_NiVPuC3",
    "outputId": "def274f8-8f90-41b8-912c-58298764e095"
   },
   "outputs": [],
   "source": [
    "print(int(\"10\"))\n",
    "#print(int(\"python\")) Error\n",
    "print(float(\"10.1\"))\n",
    "print(bool(\"\"))\n",
    "print(bool(\"Python\"))\n",
    "print(str(10))"
   ]
  },
  {
   "cell_type": "code",
   "execution_count": 0,
   "metadata": {
    "application/vnd.databricks.v1+cell": {
     "cellMetadata": {},
     "inputWidgets": {},
     "nuid": "3b60105a-f4d3-425f-a070-9393b53b94db",
     "showTitle": false,
     "tableResultSettingsMap": {},
     "title": ""
    },
    "id": "7vStX3pDSNyf"
   },
   "outputs": [],
   "source": []
  },
  {
   "cell_type": "markdown",
   "metadata": {
    "application/vnd.databricks.v1+cell": {
     "cellMetadata": {},
     "inputWidgets": {},
     "nuid": "f12f7a8a-9b62-4a80-84a4-811a2ce9cb1a",
     "showTitle": false,
     "tableResultSettingsMap": {},
     "title": ""
    },
    "id": "9DelWfxnSTuO"
   },
   "source": [
    "1. List\n",
    "2. Tuple,\n",
    "3. Set\n",
    "4. Dict\n",
    "5. Range"
   ]
  },
  {
   "cell_type": "markdown",
   "metadata": {
    "application/vnd.databricks.v1+cell": {
     "cellMetadata": {},
     "inputWidgets": {},
     "nuid": "bbea65c2-d408-45a6-9ffc-f0f11eb4911f",
     "showTitle": false,
     "tableResultSettingsMap": {},
     "title": ""
    },
    "id": "OUhfxv3JSrAv"
   },
   "source": [
    "1. List\n",
    "\n",
    "\n",
    "\n",
    "*   []\n",
    "*   Hetrogeneous types allowed\n",
    "*   Duplicates are allowed\n",
    "*   Order is preserved\n",
    "*   Indexing and Slicing\n",
    "*   Mutable\n"
   ]
  },
  {
   "cell_type": "code",
   "execution_count": 0,
   "metadata": {
    "application/vnd.databricks.v1+cell": {
     "cellMetadata": {},
     "inputWidgets": {},
     "nuid": "0be70921-6931-4e2a-a426-196bd30d827e",
     "showTitle": false,
     "tableResultSettingsMap": {},
     "title": ""
    },
    "colab": {
     "base_uri": "https://localhost:8080/"
    },
    "id": "mzUeFTPeSQli",
    "outputId": "bbf8b040-3f6b-46d0-bb28-7a6e6cae4153"
   },
   "outputs": [],
   "source": [
    "l=[12,2.34,'AWS', 'SQL',False, True]\n",
    "print(l)\n",
    "print(id(l))\n",
    "l.append(30)\n",
    "l.append('LAST')\n",
    "print(l)\n",
    "l.insert(1,5)\n",
    "print(l)\n",
    "print(id(l))\n",
    "l.clear\n",
    "print(l)\n",
    "print(id(l))\n",
    "l=[12,2.34,'AWS', 'SQL',False, True]\n",
    "print(l)\n",
    "print(id(l))\n",
    "print(l[4]) # Indexing\n",
    "print(l[:4])\n",
    "print(l[:-4])"
   ]
  },
  {
   "cell_type": "markdown",
   "metadata": {
    "application/vnd.databricks.v1+cell": {
     "cellMetadata": {},
     "inputWidgets": {},
     "nuid": "34febd1d-3948-40b5-8780-02628b58ba92",
     "showTitle": false,
     "tableResultSettingsMap": {},
     "title": ""
    },
    "id": "mlf0pMJMVRu9"
   },
   "source": [
    "Tuple\n",
    "\n",
    "Same as list except immutable\n",
    "Read only version of list is tuple\n",
    "()"
   ]
  },
  {
   "cell_type": "code",
   "execution_count": 0,
   "metadata": {
    "application/vnd.databricks.v1+cell": {
     "cellMetadata": {},
     "inputWidgets": {},
     "nuid": "faf74708-bd56-46e9-af79-d41b82742405",
     "showTitle": false,
     "tableResultSettingsMap": {},
     "title": ""
    },
    "colab": {
     "base_uri": "https://localhost:8080/"
    },
    "id": "yQ_Y02uKVewm",
    "outputId": "c8c35a08-296d-4de6-c574-999099fc29ce"
   },
   "outputs": [],
   "source": [
    "t=(10,23.3,\"Arun\",\"Boo\", True,12)\n",
    "print(t)\n",
    "print(id(t))\n",
    "t=[12,2.34,'AWS', 'SQL',False, True]\n",
    "print(t)\n",
    "print(id(t))\n",
    "print(t[4]) # Indexing\n",
    "print(t[:4])\n",
    "print(t[:-4])"
   ]
  },
  {
   "cell_type": "markdown",
   "metadata": {
    "application/vnd.databricks.v1+cell": {
     "cellMetadata": {},
     "inputWidgets": {},
     "nuid": "85c14b98-4a49-425d-9ba1-c437f6f38d34",
     "showTitle": false,
     "tableResultSettingsMap": {},
     "title": ""
    },
    "id": "PlzdN4gEXM2S"
   },
   "source": [
    "#Set\n",
    "\n",
    "\n",
    "*   {}\n",
    "*   Hetrogeneous types allowed\n",
    "*   Duplicates are NOT allowed\n",
    "*   Order is NOT preserved\n",
    "*   Indexing and Slicing NOT allowed\n",
    "*   Mutable\n"
   ]
  },
  {
   "cell_type": "code",
   "execution_count": 0,
   "metadata": {
    "application/vnd.databricks.v1+cell": {
     "cellMetadata": {},
     "inputWidgets": {},
     "nuid": "77708730-4174-4f27-8c9b-ac515bc007df",
     "showTitle": false,
     "tableResultSettingsMap": {},
     "title": ""
    },
    "colab": {
     "base_uri": "https://localhost:8080/"
    },
    "id": "hcqnFjlYXZ1O",
    "outputId": "24a63e87-3d93-46e4-c5b5-82aa3853b6a1"
   },
   "outputs": [],
   "source": [
    "s1={12, 12.3, 'Arun', 'Arun', 23, False}\n",
    "print(s1)\n",
    "print(id(s1))\n",
    "s1.add(\"99\")\n",
    "print(s1)\n",
    "print(id(s1))"
   ]
  },
  {
   "cell_type": "markdown",
   "metadata": {
    "application/vnd.databricks.v1+cell": {
     "cellMetadata": {},
     "inputWidgets": {},
     "nuid": "3d37d8b4-f93a-411c-b728-17e6af37876c",
     "showTitle": false,
     "tableResultSettingsMap": {},
     "title": ""
    },
    "id": "v4HXYaQPY2NH"
   },
   "source": [
    "# DICT\n",
    "\n",
    "\n",
    "*   More like Map in Java\n",
    "*   Key value pair\n",
    "*   Mutable\n",
    "\n",
    "\n",
    "\n"
   ]
  },
  {
   "cell_type": "code",
   "execution_count": 0,
   "metadata": {
    "application/vnd.databricks.v1+cell": {
     "cellMetadata": {},
     "inputWidgets": {},
     "nuid": "9dccdbdf-68c2-46cd-a163-0099f27717fe",
     "showTitle": false,
     "tableResultSettingsMap": {},
     "title": ""
    },
    "colab": {
     "base_uri": "https://localhost:8080/"
    },
    "id": "RZsFSKn0Y_P0",
    "outputId": "2556808e-4409-4563-f434-3dced3ce9895"
   },
   "outputs": [],
   "source": [
    "d={1:\"Arun\", 2:\"Alex\", 3:\"Aine\", 4:\"Aizza\", 3:\"AAA\", 5:True, 6:12, \"Arun\":233}\n",
    "print(d)\n",
    "print(d[1])\n",
    "print(d[\"Arun\"])\n",
    "d[\"Arun\"]=\"AAA\"\n",
    "print(d[\"Arun\"])\n",
    "d={\"KEY1\":[\"A\",\"B\",\"C\"], 2:\"Alex\", 3:\"Aine\", 4:\"Aizza\", 3:\"AAA\", 5:True, 6:12, \"Arun\":233}\n",
    "print(d[\"KEY1\"][1])"
   ]
  },
  {
   "cell_type": "code",
   "execution_count": 0,
   "metadata": {
    "application/vnd.databricks.v1+cell": {
     "cellMetadata": {},
     "inputWidgets": {},
     "nuid": "83834da7-0c59-4fcf-ad06-c9b847a50016",
     "showTitle": false,
     "tableResultSettingsMap": {},
     "title": ""
    },
    "colab": {
     "base_uri": "https://localhost:8080/"
    },
    "id": "uboAIVWPe7WV",
    "outputId": "e50b29bf-eb1b-4d21-8860-c26714ca67ea"
   },
   "outputs": [],
   "source": [
    "for i in range(10):\n",
    "  print(i)\n",
    "print('Next for loop')\n",
    "for i in range(3,10):\n",
    "  print(i)\n",
    "print('Next for loop')\n",
    "for i in range(3,30,10):\n",
    "  print(i)\n",
    "print('Next for loop Decending order')\n",
    "for i in range(30,2,-5):\n",
    "  print(i)"
   ]
  },
  {
   "cell_type": "code",
   "execution_count": 0,
   "metadata": {
    "application/vnd.databricks.v1+cell": {
     "cellMetadata": {},
     "inputWidgets": {},
     "nuid": "e0b80fb4-b1d8-4ab3-9212-7fc6c3cc69ff",
     "showTitle": false,
     "tableResultSettingsMap": {},
     "title": ""
    },
    "id": "kBJRbcwYgis-"
   },
   "outputs": [],
   "source": [
    "for i in range(0,10):\n",
    "  print(i)"
   ]
  }
 ],
 "metadata": {
  "application/vnd.databricks.v1+notebook": {
   "computePreferences": null,
   "dashboards": [],
   "environmentMetadata": null,
   "inputWidgetPreferences": null,
   "language": "python",
   "notebookMetadata": {},
   "notebookName": "PythonBasic",
   "widgets": {}
  },
  "colab": {
   "provenance": []
  },
  "kernelspec": {
   "display_name": "Python 3",
   "name": "python3"
  },
  "language_info": {
   "name": "python"
  }
 },
 "nbformat": 4,
 "nbformat_minor": 0
}
